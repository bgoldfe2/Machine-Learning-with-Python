{
 "cells": [
  {
   "cell_type": "markdown",
   "metadata": {},
   "source": [
    "### IMPORTING PACKAGES"
   ]
  },
  {
   "cell_type": "code",
   "execution_count": 2,
   "metadata": {},
   "outputs": [],
   "source": [
    "# Only for internal processing\n",
    "\n",
    "# import os, ssl\n",
    "# os.environ['CURL_CA_BUNDLE'] = '/etc/pki/ca-trust/extracted/openssl/ca-bundle.trust.crt'\n",
    "# try:\n",
    "#     _create_unverified_https_context = ssl._create_unverified_context\n",
    "# except AttributeError:\n",
    "#     pass\n",
    "# else:\n",
    "#     ssl._create_default_https_context = _create_unverified_https_context"
   ]
  },
  {
   "cell_type": "code",
   "execution_count": 5,
   "metadata": {},
   "outputs": [
    {
     "name": "stderr",
     "output_type": "stream",
     "text": [
      "[nltk_data] Downloading package punkt to /home/bruce/nltk_data...\n",
      "[nltk_data]   Package punkt is already up-to-date!\n",
      "[nltk_data] Downloading package averaged_perceptron_tagger to\n",
      "[nltk_data]     /home/bruce/nltk_data...\n",
      "[nltk_data]   Package averaged_perceptron_tagger is already up-to-\n",
      "[nltk_data]       date!\n",
      "[nltk_data] Downloading package wordnet to /home/bruce/nltk_data...\n",
      "[nltk_data]   Package wordnet is already up-to-date!\n"
     ]
    }
   ],
   "source": [
    "import pandas as pd\n",
    "import numpy as np\n",
    "\n",
    "import seaborn as sns\n",
    "import matplotlib.pyplot as plt\n",
    "\n",
    "#for text pre-processing\n",
    "import re, string\n",
    "import nltk\n",
    "from nltk.tokenize import word_tokenize\n",
    "from nltk.corpus import stopwords\n",
    "from nltk.tokenize import word_tokenize\n",
    "from nltk.stem import SnowballStemmer\n",
    "from nltk.corpus import wordnet\n",
    "from nltk.stem import WordNetLemmatizer\n",
    "\n",
    "nltk.download('punkt')\n",
    "nltk.download('averaged_perceptron_tagger')\n",
    "nltk.download('wordnet')\n",
    "\n",
    "#for model-building\n",
    "from sklearn.model_selection import train_test_split\n",
    "from sklearn.linear_model import LogisticRegression\n",
    "from sklearn.linear_model import SGDClassifier\n",
    "from sklearn.naive_bayes import MultinomialNB\n",
    "from sklearn.metrics import classification_report, f1_score, accuracy_score, confusion_matrix\n",
    "from sklearn.metrics import roc_curve, auc, roc_auc_score\n",
    "\n",
    "# bag of words\n",
    "from sklearn.feature_extraction.text import TfidfVectorizer\n",
    "from sklearn.feature_extraction.text import CountVectorizer\n",
    "\n",
    "\n",
    "\n",
    "#for word embedding\n",
    "import gensim\n",
    "from gensim.models import Word2Vec #Word2Vec is mostly used for huge datasets"
   ]
  },
  {
   "cell_type": "markdown",
   "metadata": {},
   "source": [
    "## Loading Data"
   ]
  },
  {
   "cell_type": "code",
   "execution_count": 7,
   "metadata": {},
   "outputs": [
    {
     "name": "stdout",
     "output_type": "stream",
     "text": [
      "(28623, 4)\n"
     ]
    },
    {
     "data": {
      "text/html": [
       "<div>\n",
       "<style scoped>\n",
       "    .dataframe tbody tr th:only-of-type {\n",
       "        vertical-align: middle;\n",
       "    }\n",
       "\n",
       "    .dataframe tbody tr th {\n",
       "        vertical-align: top;\n",
       "    }\n",
       "\n",
       "    .dataframe thead th {\n",
       "        text-align: right;\n",
       "    }\n",
       "</style>\n",
       "<table border=\"1\" class=\"dataframe\">\n",
       "  <thead>\n",
       "    <tr style=\"text-align: right;\">\n",
       "      <th></th>\n",
       "      <th>Unnamed: 0</th>\n",
       "      <th>text</th>\n",
       "      <th>label</th>\n",
       "      <th>target</th>\n",
       "    </tr>\n",
       "  </thead>\n",
       "  <tbody>\n",
       "    <tr>\n",
       "      <th>0</th>\n",
       "      <td>38746</td>\n",
       "      <td>#trumprussia sean spicer is a blithering idiot...</td>\n",
       "      <td>Others</td>\n",
       "      <td>4</td>\n",
       "    </tr>\n",
       "    <tr>\n",
       "      <th>1</th>\n",
       "      <td>47265</td>\n",
       "      <td>If you call yourself a Christian yet you suppo...</td>\n",
       "      <td>Religion</td>\n",
       "      <td>5</td>\n",
       "    </tr>\n",
       "    <tr>\n",
       "      <th>2</th>\n",
       "      <td>36632</td>\n",
       "      <td>Small red lights in dark rooms.</td>\n",
       "      <td>Others</td>\n",
       "      <td>4</td>\n",
       "    </tr>\n",
       "    <tr>\n",
       "      <th>3</th>\n",
       "      <td>29064</td>\n",
       "      <td>If u find yourself pouting that no male report...</td>\n",
       "      <td>Notcb</td>\n",
       "      <td>3</td>\n",
       "    </tr>\n",
       "    <tr>\n",
       "      <th>4</th>\n",
       "      <td>33884</td>\n",
       "      <td>Messi carried these retards to three consecuti...</td>\n",
       "      <td>Others</td>\n",
       "      <td>4</td>\n",
       "    </tr>\n",
       "  </tbody>\n",
       "</table>\n",
       "</div>"
      ],
      "text/plain": [
       "   Unnamed: 0                                               text     label  \\\n",
       "0       38746  #trumprussia sean spicer is a blithering idiot...    Others   \n",
       "1       47265  If you call yourself a Christian yet you suppo...  Religion   \n",
       "2       36632                    Small red lights in dark rooms.    Others   \n",
       "3       29064  If u find yourself pouting that no male report...     Notcb   \n",
       "4       33884  Messi carried these retards to three consecuti...    Others   \n",
       "\n",
       "   target  \n",
       "0       4  \n",
       "1       5  \n",
       "2       4  \n",
       "3       3  \n",
       "4       4  "
      ]
     },
     "execution_count": 7,
     "metadata": {},
     "output_type": "execute_result"
    }
   ],
   "source": [
    "#you can download the data from https://www.kaggle.com/c/nlp-getting-started/data\n",
    "import os\n",
    "\n",
    "trt_dict = { 0:'Age', 1:'Ethnicity', 2:'Gender', 3:'Notcb', 4:'Others', 5:'Religion'}\n",
    "\n",
    "path = '/home/bruce/dev/Machine-Learning-with-Python/Dataset/SixClass/'\n",
    "df_train=pd.read_csv(''.join([path,'train.csv']))\n",
    "print(df_train.shape)\n",
    "df_train.head()"
   ]
  },
  {
   "cell_type": "markdown",
   "metadata": {},
   "source": [
    "## Class Distribution for IEEE Fine Grained Cyberbullying (FGCB) dataset"
   ]
  },
  {
   "cell_type": "code",
   "execution_count": 19,
   "metadata": {},
   "outputs": [
    {
     "name": "stdout",
     "output_type": "stream",
     "text": [
      "<class 'pandas.core.series.Series'>\n",
      "0    4878\n",
      "1    4749\n",
      "2    4782\n",
      "3    4707\n",
      "4    4686\n",
      "5    4821\n",
      "Name: target, dtype: int64\n",
      "['Age', 'Ethnicity', 'Gender', 'Notcb', 'Others', 'Religion']\n"
     ]
    },
    {
     "data": {
      "image/png": "[encoded data removed]",
      "text/plain": [
       "<Figure size 640x480 with 1 Axes>"
      ]
     },
     "metadata": {},
     "output_type": "display_data"
    }
   ],
   "source": [
    "# CLASS DISTRIBUTION\n",
    "#if dataset is balanced or not\n",
    "x=df_train['target'].value_counts()\n",
    "print(type(x))\n",
    "print(x.sort_index())\n",
    "lbl_x = []\n",
    "for value in map(lambda x: trt_dict[x], trt_dict):\n",
    "    lbl_x.append(value)\n",
    "print(lbl_x)\n",
    "ax = sns.barplot(x=lbl_x, y=x)\n",
    "for i in ax.containers:\n",
    "    ax.bar_label(i,)"
   ]
  },
  {
   "cell_type": "code",
   "execution_count": 13,
   "metadata": {},
   "outputs": [
    {
     "name": "stdout",
     "output_type": "stream",
     "text": [
      "text      0\n",
      "label     0\n",
      "target    0\n",
      "dtype: int64\n"
     ]
    },
    {
     "data": {
      "text/html": [
       "<div>\n",
       "<style scoped>\n",
       "    .dataframe tbody tr th:only-of-type {\n",
       "        vertical-align: middle;\n",
       "    }\n",
       "\n",
       "    .dataframe tbody tr th {\n",
       "        vertical-align: top;\n",
       "    }\n",
       "\n",
       "    .dataframe thead th {\n",
       "        text-align: right;\n",
       "    }\n",
       "</style>\n",
       "<table border=\"1\" class=\"dataframe\">\n",
       "  <thead>\n",
       "    <tr style=\"text-align: right;\">\n",
       "      <th></th>\n",
       "      <th>text</th>\n",
       "      <th>label</th>\n",
       "      <th>target</th>\n",
       "    </tr>\n",
       "  </thead>\n",
       "  <tbody>\n",
       "    <tr>\n",
       "      <th>0</th>\n",
       "      <td>#trumprussia sean spicer is a blithering idiot...</td>\n",
       "      <td>Others</td>\n",
       "      <td>4</td>\n",
       "    </tr>\n",
       "    <tr>\n",
       "      <th>1</th>\n",
       "      <td>If you call yourself a Christian yet you suppo...</td>\n",
       "      <td>Religion</td>\n",
       "      <td>5</td>\n",
       "    </tr>\n",
       "    <tr>\n",
       "      <th>2</th>\n",
       "      <td>Small red lights in dark rooms.</td>\n",
       "      <td>Others</td>\n",
       "      <td>4</td>\n",
       "    </tr>\n",
       "    <tr>\n",
       "      <th>3</th>\n",
       "      <td>If u find yourself pouting that no male report...</td>\n",
       "      <td>Notcb</td>\n",
       "      <td>3</td>\n",
       "    </tr>\n",
       "    <tr>\n",
       "      <th>4</th>\n",
       "      <td>Messi carried these retards to three consecuti...</td>\n",
       "      <td>Others</td>\n",
       "      <td>4</td>\n",
       "    </tr>\n",
       "    <tr>\n",
       "      <th>...</th>\n",
       "      <td>...</td>\n",
       "      <td>...</td>\n",
       "      <td>...</td>\n",
       "    </tr>\n",
       "    <tr>\n",
       "      <th>28618</th>\n",
       "      <td>@TheWolfieGirl Kill niggers #KKK hold up BITCH...</td>\n",
       "      <td>Ethnicity</td>\n",
       "      <td>1</td>\n",
       "    </tr>\n",
       "    <tr>\n",
       "      <th>28619</th>\n",
       "      <td>She 5'7 and her bf 4'7 lmao</td>\n",
       "      <td>Notcb</td>\n",
       "      <td>3</td>\n",
       "    </tr>\n",
       "    <tr>\n",
       "      <th>28620</th>\n",
       "      <td>ha she got sand in her vagina RT @tayyoung_ FU...</td>\n",
       "      <td>Ethnicity</td>\n",
       "      <td>1</td>\n",
       "    </tr>\n",
       "    <tr>\n",
       "      <th>28621</th>\n",
       "      <td>Just a reminder, it's absolutely disgusting to...</td>\n",
       "      <td>Ethnicity</td>\n",
       "      <td>1</td>\n",
       "    </tr>\n",
       "    <tr>\n",
       "      <th>28622</th>\n",
       "      <td>Trying to seem like the bullied girl in high s...</td>\n",
       "      <td>Age</td>\n",
       "      <td>0</td>\n",
       "    </tr>\n",
       "  </tbody>\n",
       "</table>\n",
       "<p>28623 rows × 3 columns</p>\n",
       "</div>"
      ],
      "text/plain": [
       "                                                    text      label  target\n",
       "0      #trumprussia sean spicer is a blithering idiot...     Others       4\n",
       "1      If you call yourself a Christian yet you suppo...   Religion       5\n",
       "2                        Small red lights in dark rooms.     Others       4\n",
       "3      If u find yourself pouting that no male report...      Notcb       3\n",
       "4      Messi carried these retards to three consecuti...     Others       4\n",
       "...                                                  ...        ...     ...\n",
       "28618  @TheWolfieGirl Kill niggers #KKK hold up BITCH...  Ethnicity       1\n",
       "28619                        She 5'7 and her bf 4'7 lmao      Notcb       3\n",
       "28620  ha she got sand in her vagina RT @tayyoung_ FU...  Ethnicity       1\n",
       "28621  Just a reminder, it's absolutely disgusting to...  Ethnicity       1\n",
       "28622  Trying to seem like the bullied girl in high s...        Age       0\n",
       "\n",
       "[28623 rows x 3 columns]"
      ]
     },
     "execution_count": 13,
     "metadata": {},
     "output_type": "execute_result"
    }
   ],
   "source": [
    "#Remove old index\n",
    "#del df_train['Unnamed: 0']\n",
    "\n",
    "#Missing values\n",
    "print(df_train.isna().sum())\n",
    "df_train"
   ]
  },
  {
   "cell_type": "code",
   "execution_count": 30,
   "metadata": {},
   "outputs": [
    {
     "name": "stdout",
     "output_type": "stream",
     "text": [
      "The trait is  Age \n",
      "\n",
      "word counts\n",
      "trait  Age 32.24251742517425\n",
      "character counts\n",
      "trait  Age 173.05678556785568\n",
      "unique word-counts\n",
      "trait  Age 28.625461254612546\n",
      "\n",
      "\n",
      "The trait is  Ethnicity \n",
      "\n",
      "word counts\n",
      "trait  Ethnicity 24.90840176879343\n",
      "character counts\n",
      "trait  Ethnicity 139.46157085702254\n",
      "unique word-counts\n",
      "trait  Ethnicity 22.723520741208677\n",
      "\n",
      "\n",
      "The trait is  Gender \n",
      "\n",
      "word counts\n",
      "trait  Gender 23.72814721873693\n",
      "character counts\n",
      "trait  Gender 137.13697197825178\n",
      "unique word-counts\n",
      "trait  Gender 21.666666666666668\n",
      "\n",
      "\n",
      "The trait is  Notcb \n",
      "\n",
      "word counts\n",
      "trait  Notcb 13.560229445506693\n",
      "character counts\n",
      "trait  Notcb 82.5882727852135\n",
      "unique word-counts\n",
      "trait  Notcb 13.006373486297004\n",
      "\n",
      "\n",
      "The trait is  Others \n",
      "\n",
      "word counts\n",
      "trait  Others 13.95134443021767\n",
      "character counts\n",
      "trait  Others 84.89714041826718\n",
      "unique word-counts\n",
      "trait  Others 13.330132309005549\n",
      "\n",
      "\n",
      "The trait is  Religion \n",
      "\n",
      "word counts\n",
      "trait  Religion 33.45924082140635\n",
      "character counts\n",
      "trait  Religion 198.11325451151214\n",
      "unique word-counts\n",
      "trait  Religion 29.971375233354077\n",
      "\n",
      "\n"
     ]
    },
    {
     "data": {
      "image/png": "[encoded data removed]",
      "text/plain": [
       "<Figure size 640x480 with 1 Axes>"
      ]
     },
     "metadata": {},
     "output_type": "display_data"
    }
   ],
   "source": [
    "# Get the Word Count, Character Count, and Unique Word Count for dataset\n",
    "\n",
    "tgt_num = df_train['label'].nunique()\n",
    "#print(tgt_num)\n",
    "\n",
    "wc = []\n",
    "cc = []\n",
    "uwc = []\n",
    "for trt in range(tgt_num):    \n",
    "    print(\"The trait is \",trt_dict[trt], '\\n')\n",
    "    \n",
    "    #1. WORD-COUNT\n",
    "    df_train['word_count'] = df_train['text'].apply(lambda x: len(str(x).split()))\n",
    "    word_ct  = df_train[df_train['target']==trt]['word_count'].mean()\n",
    "    wc.append(word_ct)\n",
    "    print('word counts')\n",
    "    print('trait ', trt_dict[trt], word_ct) \n",
    "    \n",
    "    #2. CHARACTER-COUNT\n",
    "    df_train['char_count'] = df_train['text'].apply(lambda x: len(str(x)))\n",
    "    char_ct = df_train[df_train['target']==trt]['char_count'].mean()\n",
    "    cc.append(char_ct)\n",
    "    print('character counts')\n",
    "    print('trait ',trt_dict[trt], char_ct) \n",
    "   \n",
    "    #3. UNIQUE WORD-COUNT\n",
    "    df_train['unique_word_count'] = df_train['text'].apply(lambda x: len(set(str(x).split())))\n",
    "    unq_word_ct = df_train[df_train['target']==trt]['unique_word_count'].mean()\n",
    "    uwc.append(unq_word_ct)\n",
    "    print('unique word-counts')\n",
    "    print('trait ',trt_dict[trt], unq_word_ct) \n",
    "    \n",
    "    print('\\n')\n",
    "    \n",
    "df = pd.DataFrame({\n",
    "    'Average Cyberbullying Traits':lbl_x,\n",
    "    'Average Char Count':cc,\n",
    "    'Average Word Count':wc,\n",
    "    'Average Unique Word Count':uwc\n",
    "})\n",
    "\n",
    "df_detailed = pd.melt(df, id_vars=['Average Cyberbullying Traits'], value_vars=['Average Word Count',  'Average Unique Word Count']) #['Average Char Count', 'Average Word Count',  'Average Unique Word Count'])\n",
    "\n",
    "ax = sns.barplot(x = \"Average Cyberbullying Traits\", y = \"value\", hue = \"variable\", data = df_detailed)"
   ]
  },
  {
   "cell_type": "code",
   "execution_count": 39,
   "metadata": {},
   "outputs": [
    {
     "data": {
      "image/png": "[encoded data removed]",
      "text/plain": [
       "<Figure size 640x480 with 1 Axes>"
      ]
     },
     "metadata": {},
     "output_type": "display_data"
    },
    {
     "data": {
      "image/png": "[encoded data removed]",
      "text/plain": [
       "<Figure size 640x480 with 1 Axes>"
      ]
     },
     "metadata": {},
     "output_type": "display_data"
    },
    {
     "data": {
      "image/png": "[encoded data removed]",
      "text/plain": [
       "<Figure size 640x480 with 1 Axes>"
      ]
     },
     "metadata": {},
     "output_type": "display_data"
    },
    {
     "data": {
      "image/png": "[encoded data removed]",
      "text/plain": [
       "<Figure size 640x480 with 1 Axes>"
      ]
     },
     "metadata": {},
     "output_type": "display_data"
    },
    {
     "data": {
      "image/png": "[encoded data removed]",
      "text/plain": [
       "<Figure size 640x480 with 1 Axes>"
      ]
     },
     "metadata": {},
     "output_type": "display_data"
    },
    {
     "data": {
      "image/png": "[encoded data removed]",
      "text/plain": [
       "<Figure size 640x480 with 1 Axes>"
      ]
     },
     "metadata": {},
     "output_type": "display_data"
    }
   ],
   "source": [
    "for trt in range(tgt_num):\n",
    "    train_words=df_train[df_train['target']==trt]['word_count']\n",
    "    #train_words = train_words[train_words.index <= 100]\n",
    "    \n",
    "    #train_words = train_words['text'].str.len()<100]\n",
    "    fig, ax = plt.subplots()\n",
    "    sns.histplot(train_words, ax=ax).set(title=trt_dict[trt])\n",
    "    ax.set_xlim(0,80)\n",
    "    ax.set_xticks(range(10,80,10))\n",
    "    \n",
    "    # for i in ax.containers:\n",
    "    #     ax.bar_label(i,)"
   ]
  },
  {
   "cell_type": "markdown",
   "metadata": {},
   "source": [
    "## PRE-PROCESSING"
   ]
  },
  {
   "cell_type": "code",
   "execution_count": 40,
   "metadata": {},
   "outputs": [
    {
     "name": "stdout",
     "output_type": "stream",
     "text": [
      "this is a message to be cleaned it may involve some things like adjacent spaces and tabs\n"
     ]
    }
   ],
   "source": [
    "#1. Common text preprocessing\n",
    "text = \"   This is a message to be cleaned. It may involve some things like: <br>, ?, :, ''  adjacent spaces and tabs     .  \"\n",
    "\n",
    "#convert to lowercase and remove punctuations and characters and then strip\n",
    "def preprocess(text):\n",
    "    text = text.lower() #lowercase text\n",
    "    text=text.strip()  #get rid of leading/trailing whitespace \n",
    "    text=re.compile('<.*?>').sub('', text) #Remove HTML tags/markups\n",
    "    text = re.compile('[%s]' % re.escape(string.punctuation)).sub(' ', text)  #Replace punctuation with space. Careful since punctuation can sometime be useful\n",
    "    text = re.sub('\\s+', ' ', text)  #Remove extra space and tabs\n",
    "    text = re.sub(r'\\[[0-9]*\\]',' ',text) #[0-9] matches any digit (0 to 10000...)\n",
    "    text=re.sub(r'[^\\w\\s]', '', str(text).lower().strip())\n",
    "    text = re.sub(r'\\d',' ',text) #matches any digit from 0 to 100000..., \\D matches non-digits\n",
    "    text = re.sub(r'\\s+',' ',text) #\\s matches any whitespace, \\s+ matches multiple whitespace, \\S matches non-whitespace \n",
    "    \n",
    "    return text\n",
    "\n",
    "text=preprocess(text)\n",
    "print(text)  #text is a string"
   ]
  },
  {
   "cell_type": "code",
   "execution_count": 41,
   "metadata": {},
   "outputs": [
    {
     "name": "stderr",
     "output_type": "stream",
     "text": [
      "[nltk_data] Downloading package stopwords to /home/bruce/nltk_data...\n",
      "[nltk_data]   Package stopwords is already up-to-date!\n"
     ]
    },
    {
     "data": {
      "text/plain": [
       "True"
      ]
     },
     "execution_count": 41,
     "metadata": {},
     "output_type": "execute_result"
    }
   ],
   "source": [
    "import nltk\n",
    "nltk.download('stopwords')"
   ]
  },
  {
   "cell_type": "code",
   "execution_count": 42,
   "metadata": {},
   "outputs": [
    {
     "name": "stdout",
     "output_type": "stream",
     "text": [
      "message cleaned may involve things like adjacent spaces tabs\n",
      "messag clean may involv thing like adjac space tab\n",
      "messag clean may involv thing like adjac space tab\n"
     ]
    }
   ],
   "source": [
    "#3. LEXICON-BASED TEXT PROCESSING EXAMPLES\n",
    " \n",
    "#1. STOPWORD REMOVAL\n",
    "def stopword(string):\n",
    "    a= [i for i in string.split() if i not in stopwords.words('english')]\n",
    "    return ' '.join(a)\n",
    "\n",
    "text=stopword(text)\n",
    "print(text)\n",
    "\n",
    "#2. STEMMING\n",
    " \n",
    "# Initialize the stemmer\n",
    "snow = SnowballStemmer('english')\n",
    "def stemming(string):\n",
    "    a=[snow.stem(i) for i in word_tokenize(string) ]\n",
    "    return \" \".join(a)\n",
    "text=stemming(text)\n",
    "print(text)\n",
    "\n",
    "#3. LEMMATIZATION\n",
    "# Initialize the lemmatizer\n",
    "wl = WordNetLemmatizer()\n",
    " \n",
    "# This is a helper function to map NTLK position tags\n",
    "# Full list is available here: https://www.ling.upenn.edu/courses/Fall_2003/ling001/penn_treebank_pos.html\n",
    "def get_wordnet_pos(tag):\n",
    "    if tag.startswith('J'):\n",
    "        return wordnet.ADJ\n",
    "    elif tag.startswith('V'):\n",
    "        return wordnet.VERB\n",
    "    elif tag.startswith('N'):\n",
    "        return wordnet.NOUN\n",
    "    elif tag.startswith('R'):\n",
    "        return wordnet.ADV\n",
    "    else:\n",
    "        return wordnet.NOUN\n",
    "\n",
    "# Tokenize the sentence\n",
    "def lemmatizer(string):\n",
    "    word_pos_tags = nltk.pos_tag(word_tokenize(string)) # Get position tags\n",
    "    a=[wl.lemmatize(tag[0], get_wordnet_pos(tag[1])) for idx, tag in enumerate(word_pos_tags)] # Map the position tag and lemmatize the word/token\n",
    "    return \" \".join(a)\n",
    "\n",
    "text = lemmatizer(text)\n",
    "print(text)"
   ]
  },
  {
   "cell_type": "code",
   "execution_count": 43,
   "metadata": {},
   "outputs": [
    {
     "data": {
      "text/html": [
       "<div>\n",
       "<style scoped>\n",
       "    .dataframe tbody tr th:only-of-type {\n",
       "        vertical-align: middle;\n",
       "    }\n",
       "\n",
       "    .dataframe tbody tr th {\n",
       "        vertical-align: top;\n",
       "    }\n",
       "\n",
       "    .dataframe thead th {\n",
       "        text-align: right;\n",
       "    }\n",
       "</style>\n",
       "<table border=\"1\" class=\"dataframe\">\n",
       "  <thead>\n",
       "    <tr style=\"text-align: right;\">\n",
       "      <th></th>\n",
       "      <th>Unnamed: 0</th>\n",
       "      <th>text</th>\n",
       "      <th>label</th>\n",
       "      <th>target</th>\n",
       "      <th>clean_text</th>\n",
       "    </tr>\n",
       "  </thead>\n",
       "  <tbody>\n",
       "    <tr>\n",
       "      <th>0</th>\n",
       "      <td>38746</td>\n",
       "      <td>#trumprussia sean spicer is a blithering idiot...</td>\n",
       "      <td>Others</td>\n",
       "      <td>4</td>\n",
       "      <td>trumprussia sean spicer blither idiot repeat a...</td>\n",
       "    </tr>\n",
       "    <tr>\n",
       "      <th>1</th>\n",
       "      <td>47265</td>\n",
       "      <td>If you call yourself a Christian yet you suppo...</td>\n",
       "      <td>Religion</td>\n",
       "      <td>5</td>\n",
       "      <td>call christian yet support bill man push asham...</td>\n",
       "    </tr>\n",
       "    <tr>\n",
       "      <th>2</th>\n",
       "      <td>36632</td>\n",
       "      <td>Small red lights in dark rooms.</td>\n",
       "      <td>Others</td>\n",
       "      <td>4</td>\n",
       "      <td>small red light dark room</td>\n",
       "    </tr>\n",
       "    <tr>\n",
       "      <th>3</th>\n",
       "      <td>29064</td>\n",
       "      <td>If u find yourself pouting that no male report...</td>\n",
       "      <td>Notcb</td>\n",
       "      <td>3</td>\n",
       "      <td>u find pout male reporter recognize one press ...</td>\n",
       "    </tr>\n",
       "    <tr>\n",
       "      <th>4</th>\n",
       "      <td>33884</td>\n",
       "      <td>Messi carried these retards to three consecuti...</td>\n",
       "      <td>Others</td>\n",
       "      <td>4</td>\n",
       "      <td>messi carry retard three consecutive final unb...</td>\n",
       "    </tr>\n",
       "  </tbody>\n",
       "</table>\n",
       "</div>"
      ],
      "text/plain": [
       "   Unnamed: 0                                               text     label  \\\n",
       "0       38746  #trumprussia sean spicer is a blithering idiot...    Others   \n",
       "1       47265  If you call yourself a Christian yet you suppo...  Religion   \n",
       "2       36632                    Small red lights in dark rooms.    Others   \n",
       "3       29064  If u find yourself pouting that no male report...     Notcb   \n",
       "4       33884  Messi carried these retards to three consecuti...    Others   \n",
       "\n",
       "   target                                         clean_text  \n",
       "0       4  trumprussia sean spicer blither idiot repeat a...  \n",
       "1       5  call christian yet support bill man push asham...  \n",
       "2       4                          small red light dark room  \n",
       "3       3  u find pout male reporter recognize one press ...  \n",
       "4       4  messi carry retard three consecutive final unb...  "
      ]
     },
     "execution_count": 43,
     "metadata": {},
     "output_type": "execute_result"
    }
   ],
   "source": [
    "#FINAL PREPROCESSING\n",
    "def finalpreprocess(string):\n",
    "    return lemmatizer(stopword(preprocess(string)))\n",
    "\n",
    "df_train['clean_text'] = df_train['text'].apply(lambda x: finalpreprocess(x))\n",
    "df_train=df_train.drop(columns=['word_count','char_count','unique_word_count'])\n",
    "df_train.head()"
   ]
  },
  {
   "cell_type": "markdown",
   "metadata": {},
   "source": [
    "### Word2Vec model"
   ]
  },
  {
   "cell_type": "code",
   "execution_count": 44,
   "metadata": {},
   "outputs": [],
   "source": [
    "# create Word2vec model\n",
    "#here words_f should be a list containing words from each document. say 1st row of the list is words from the 1st document/sentence\n",
    "#length of words_f is number of documents/sentences in your dataset\n",
    "df_train['clean_text_tok']=[nltk.word_tokenize(i) for i in df_train['clean_text']] #convert preprocessed sentence to tokenized sentence\n",
    "model = Word2Vec(df_train['clean_text_tok'],min_count=1)  #min_count=1 means word should be present at least across all documents,\n",
    "#if min_count=2 means if the word is present less than 2 times across all the documents then we shouldn't consider it\n",
    "\n",
    "\n",
    "#w2v = dict(zip(model.wv.index2word, model.wv.syn0))  #combination of word and its vector\n",
    "#w2v = dict(zip(model.wv.index_to_key, model.wv.syn0))  #combination of word and its vector\n",
    "w2v = dict(zip(model.wv.index_to_key, model.wv.vectors)) \n",
    "#for converting sentence to vectors/numbers from word vectors result by Word2Vec\n",
    "class MeanEmbeddingVectorizer(object):\n",
    "    def __init__(self, word2vec):\n",
    "        self.word2vec = word2vec\n",
    "        # if a text is empty we should return a vector of zeros\n",
    "        # with the same dimensionality as all the other vectors\n",
    "        self.dim = len(next(iter(word2vec.values())))\n",
    "\n",
    "    def fit(self, X, y):\n",
    "        return self\n",
    "\n",
    "    def transform(self, X):\n",
    "        return np.array([\n",
    "            np.mean([self.word2vec[w] for w in words if w in self.word2vec]\n",
    "                    or [np.zeros(self.dim)], axis=0)\n",
    "            for words in X\n",
    "        ])\n"
   ]
  },
  {
   "cell_type": "markdown",
   "metadata": {},
   "source": [
    "### TRAIN TEST SPLITTING OF LABELLED DATASET"
   ]
  },
  {
   "cell_type": "code",
   "execution_count": 45,
   "metadata": {},
   "outputs": [],
   "source": [
    "#SPLITTING THE TRAINING DATASET INTO TRAINING AND VALIDATION\n",
    " \n",
    "# Input: \"reviewText\", \"rating\" and \"time\"\n",
    "# Target: \"log_votes\"\n",
    "X_train, X_val, y_train, y_val = train_test_split(df_train[\"clean_text\"],\n",
    "                                                  df_train[\"target\"],\n",
    "                                                  test_size=0.2,\n",
    "                                                  shuffle=True)\n",
    "X_train_tok= [nltk.word_tokenize(i) for i in X_train]  #for word2vec\n",
    "X_val_tok= [nltk.word_tokenize(i) for i in X_val]      #for word2vec\n",
    "\n",
    "#TF-IDF\n",
    "# Convert x_train to vector since model can only run on numbers and not words- Fit and transform\n",
    "tfidf_vectorizer = TfidfVectorizer(use_idf=True)\n",
    "X_train_vectors_tfidf = tfidf_vectorizer.fit_transform(X_train) #tfidf runs on non-tokenized sentences unlike word2vec\n",
    "# Only transform x_test (not fit and transform)\n",
    "X_val_vectors_tfidf = tfidf_vectorizer.transform(X_val) #Don't fit() your TfidfVectorizer to your test data: it will \n",
    "#change the word-indexes & weights to match test data. Rather, fit on the training data, then use the same train-data-\n",
    "#fit model on the test data, to reflect the fact you're analyzing the test data only based on what was learned without \n",
    "#it, and the have compatible\n",
    "\n",
    "\n",
    "#Word2vec\n",
    "# Fit and transform\n",
    "modelw = MeanEmbeddingVectorizer(w2v)\n",
    "X_train_vectors_w2v = modelw.transform(X_train_tok)\n",
    "X_val_vectors_w2v = modelw.transform(X_val_tok)"
   ]
  },
  {
   "cell_type": "markdown",
   "metadata": {},
   "source": [
    "### Building ML models (Text-classification)"
   ]
  },
  {
   "cell_type": "markdown",
   "metadata": {},
   "source": [
    "#### LR (tf-idf)"
   ]
  },
  {
   "cell_type": "code",
   "execution_count": 52,
   "metadata": {},
   "outputs": [
    {
     "name": "stdout",
     "output_type": "stream",
     "text": [
      "Logistic Regreassion Accuracy Score ->  81.88646288209607\n",
      "Logistic Regreassion F1 Score (multi-class) ->  [95.45913219 97.91894852 87.30748805 54.51559934 61.43071536 94.56802897]\n",
      "Logistic Regreassion F1 Score (macro avg) ->  81.86665207223743\n",
      "              precision    recall  f1-score   support\n",
      "\n",
      "           0       0.93      0.98      0.95       965\n",
      "           1       0.97      0.98      0.98       908\n",
      "           2       0.90      0.85      0.87       970\n",
      "           3       0.55      0.54      0.55       929\n",
      "           4       0.61      0.62      0.61       989\n",
      "           5       0.94      0.95      0.95       964\n",
      "\n",
      "    accuracy                           0.82      5725\n",
      "   macro avg       0.82      0.82      0.82      5725\n",
      "weighted avg       0.82      0.82      0.82      5725\n",
      "\n",
      "Confusion Matrix:\n",
      " [[946   0   2  12   5   0]\n",
      " [  1 894   3   2   8   0]\n",
      " [  2   5 822  78  60   3]\n",
      " [ 37   8  33 498 315  38]\n",
      " [ 29   8  49 275 614  14]\n",
      " [  2   3   4  33   8 914]]\n"
     ]
    }
   ],
   "source": [
    "#FITTING THE CLASSIFICATION MODEL using Logistic Regression(tf-idf)\n",
    "\n",
    "lr_tfidf=LogisticRegression(solver = 'liblinear', C=10, penalty = 'l2')\n",
    "lr_tfidf.fit(X_train_vectors_tfidf, y_train)  #model\n",
    "\n",
    "#Predict y value for test dataset\n",
    "y_predict = lr_tfidf.predict(X_val_vectors_tfidf)\n",
    "y_prob = lr_tfidf.predict_proba(X_val_vectors_tfidf)[:,1]\n",
    " \n",
    "print(\"Logistic Regreassion Accuracy Score -> \",accuracy_score(y_predict, y_val)*100)\n",
    "print(\"Logistic Regreassion F1 Score (multi-class) -> \",f1_score(y_predict, y_val, average=None)*100)\n",
    "print(\"Logistic Regreassion F1 Score (macro avg) -> \",f1_score(y_predict, y_val, average='macro')*100)\n",
    "\n",
    "\n",
    "print(classification_report(y_val,y_predict))\n",
    "print('Confusion Matrix:\\n',confusion_matrix(y_val, y_predict))\n",
    " \n",
    "# fpr, tpr, thresholds = roc_curve(y_val, y_prob)\n",
    "# roc_auc = auc(fpr, tpr)\n",
    "# print('AUC:', roc_auc)  "
   ]
  },
  {
   "cell_type": "markdown",
   "metadata": {},
   "source": [
    "#### NB (tf-idf)"
   ]
  },
  {
   "cell_type": "code",
   "execution_count": 53,
   "metadata": {},
   "outputs": [
    {
     "name": "stdout",
     "output_type": "stream",
     "text": [
      "Naive Bayes Accuracy Score ->  74.60262008733625\n",
      "Naive Bayes F1 Score (multi-class) ->  [79.38487116 87.743293   82.56410256 42.88777698 53.85081868 86.99300699]\n",
      "Naive Bayes F1 Score (macro avg) ->  72.23731156296381\n",
      "              precision    recall  f1-score   support\n",
      "\n",
      "           0       0.66      0.99      0.79       965\n",
      "           1       0.84      0.92      0.88       908\n",
      "           2       0.82      0.83      0.83       970\n",
      "           3       0.64      0.32      0.43       929\n",
      "           4       0.67      0.45      0.54       989\n",
      "           5       0.79      0.97      0.87       964\n",
      "\n",
      "    accuracy                           0.75      5725\n",
      "   macro avg       0.74      0.75      0.72      5725\n",
      "weighted avg       0.74      0.75      0.72      5725\n",
      "\n",
      "Confusion Matrix:\n",
      " [[955   1   4   0   0   5]\n",
      " [ 38 834   3   0   6  27]\n",
      " [ 28  32 805  62  22  21]\n",
      " [200  41  76 300 186 126]\n",
      " [205  83  86 102 444  69]\n",
      " [ 15   2   6   6   2 933]]\n"
     ]
    }
   ],
   "source": [
    "#FITTING THE CLASSIFICATION MODEL using Naive Bayes(tf-idf)\n",
    "#It's a probabilistic classifier that makes use of Bayes' Theorem, a rule that uses probability to make predictions based on prior knowledge of conditions that might be related. This algorithm is the most suitable for such large dataset as it considers each feature independently, calculates the probability of each category, and then predicts the category with the highest probability.\n",
    "\n",
    "nb_tfidf = MultinomialNB()\n",
    "nb_tfidf.fit(X_train_vectors_tfidf, y_train)  #model\n",
    "\n",
    "#Predict y value for test dataset\n",
    "y_predict = nb_tfidf.predict(X_val_vectors_tfidf)\n",
    "y_prob = nb_tfidf.predict_proba(X_val_vectors_tfidf)[:,1]\n",
    "\n",
    "print(\"Naive Bayes Accuracy Score -> \",accuracy_score(y_predict, y_val)*100)\n",
    "print(\"Naive Bayes F1 Score (multi-class) -> \",f1_score(y_predict, y_val, average=None)*100)\n",
    "print(\"Naive Bayes F1 Score (macro avg) -> \",f1_score(y_predict, y_val, average='macro')*100)\n",
    "\n",
    "\n",
    "print(classification_report(y_val,y_predict))\n",
    "print('Confusion Matrix:\\n',confusion_matrix(y_val, y_predict))\n",
    " \n",
    "# fpr, tpr, thresholds = roc_curve(y_val, y_prob)\n",
    "# roc_auc = auc(fpr, tpr)\n",
    "# print('AUC:', roc_auc)  \n",
    "\n",
    "\n"
   ]
  },
  {
   "cell_type": "markdown",
   "metadata": {},
   "source": [
    "#### LR (w2v)"
   ]
  },
  {
   "cell_type": "code",
   "execution_count": 54,
   "metadata": {},
   "outputs": [
    {
     "name": "stdout",
     "output_type": "stream",
     "text": [
      "Logistic Regreassion with Word2Vec Accuracy Score ->  77.34497816593885\n",
      "Logistic Regreassion with Word2Vec F1 Score (multi-class) ->  [93.02558956 93.51901446 80.47337278 45.71773221 56.35148042 92.06670035]\n",
      "Logistic Regreassion with Word2Vec F1 Score (macro avg) ->  76.85898163128027\n",
      "              precision    recall  f1-score   support\n",
      "\n",
      "           0       0.90      0.96      0.93       965\n",
      "           1       0.91      0.96      0.94       908\n",
      "           2       0.84      0.77      0.80       970\n",
      "           3       0.52      0.41      0.46       929\n",
      "           4       0.53      0.60      0.56       989\n",
      "           5       0.90      0.95      0.92       964\n",
      "\n",
      "    accuracy                           0.77      5725\n",
      "   macro avg       0.77      0.77      0.77      5725\n",
      "weighted avg       0.77      0.77      0.77      5725\n",
      "\n",
      "Confusion Matrix: [[927   1   2  22  12   1]\n",
      " [  4 873   4   8  16   3]\n",
      " [  4  13 748  91 107   7]\n",
      " [ 58  28  49 379 357  58]\n",
      " [ 32  38  76 218 590  35]\n",
      " [  3   6  10  11  23 911]]\n"
     ]
    }
   ],
   "source": [
    "#FITTING THE CLASSIFICATION MODEL using Logistic Regression (W2v)\n",
    "lr_w2v=LogisticRegression(solver = 'liblinear', C=10, penalty = 'l2')\n",
    "lr_w2v.fit(X_train_vectors_w2v, y_train)  #model\n",
    "\n",
    "#Predict y value for test dataset\n",
    "y_predict = lr_w2v.predict(X_val_vectors_w2v)\n",
    "y_prob = lr_w2v.predict_proba(X_val_vectors_w2v)[:,1]\n",
    " \n",
    "print(\"Logistic Regreassion with Word2Vec Accuracy Score -> \",accuracy_score(y_predict, y_val)*100)\n",
    "print(\"Logistic Regreassion with Word2Vec F1 Score (multi-class) -> \",f1_score(y_predict, y_val, average=None)*100)\n",
    "print(\"Logistic Regreassion with Word2Vec F1 Score (macro avg) -> \",f1_score(y_predict, y_val, average='macro')*100)\n",
    "    \n",
    "print(classification_report(y_val,y_predict))\n",
    "print('Confusion Matrix:',confusion_matrix(y_val, y_predict))\n",
    " \n",
    "# fpr, tpr, thresholds = roc_curve(y_val, y_prob)\n",
    "# roc_auc = auc(fpr, tpr)\n",
    "# print('AUC:', roc_auc)  "
   ]
  },
  {
   "cell_type": "markdown",
   "metadata": {},
   "source": [
    "### TESTING THE MODEL ON UNLABELLED DATASET - Legacy for Kaggle project"
   ]
  },
  {
   "cell_type": "code",
   "execution_count": 60,
   "metadata": {},
   "outputs": [
    {
     "name": "stdout",
     "output_type": "stream",
     "text": [
      "   Unnamed: 0                                               text      label  \\\n",
      "0       24948                  @hestiahdruid are those any good?      Notcb   \n",
      "1       12778        Saw My Lil'Nigga @DopeShitt__ Dis Mawning !  Ethnicity   \n",
      "2       40623  Hey @ImranKhanPTI how are you feeling after be...   Religion   \n",
      "3       39427                              @Tilaurin probably :P     Others   \n",
      "4       41816  Shameful really....you are defending ordinary ...   Religion   \n",
      "\n",
      "   target                                         clean_text  predict_prob  \n",
      "0       4                                  hestiahdruid good      0.004287  \n",
      "1       1                saw lil nigga dopeshitt dis mawning      0.595758  \n",
      "2       5  hey imrankhanpti feel become slave chinese dar...      0.007820  \n",
      "3       4                                tilaurin probably p      0.004658  \n",
      "4       5  shameful really defend ordinary muslim oppress...      0.000670  \n"
     ]
    },
    {
     "ename": "KeyError",
     "evalue": "\"['id'] not in index\"",
     "output_type": "error",
     "traceback": [
      "\u001b[0;31m---------------------------------------------------------------------------\u001b[0m",
      "\u001b[0;31mKeyError\u001b[0m                                  Traceback (most recent call last)",
      "Cell \u001b[0;32mIn[60], line 11\u001b[0m\n\u001b[1;32m      9\u001b[0m df_test[\u001b[38;5;124m'\u001b[39m\u001b[38;5;124mtarget\u001b[39m\u001b[38;5;124m'\u001b[39m]\u001b[38;5;241m=\u001b[39m y_predict\n\u001b[1;32m     10\u001b[0m \u001b[38;5;28mprint\u001b[39m(df_test\u001b[38;5;241m.\u001b[39mhead())\n\u001b[0;32m---> 11\u001b[0m final\u001b[38;5;241m=\u001b[39m\u001b[43mdf_test\u001b[49m\u001b[43m[\u001b[49m\u001b[43m[\u001b[49m\u001b[38;5;124;43m'\u001b[39;49m\u001b[38;5;124;43mid\u001b[39;49m\u001b[38;5;124;43m'\u001b[39;49m\u001b[43m,\u001b[49m\u001b[38;5;124;43m'\u001b[39;49m\u001b[38;5;124;43mtarget\u001b[39;49m\u001b[38;5;124;43m'\u001b[39;49m\u001b[43m]\u001b[49m\u001b[43m]\u001b[49m\u001b[38;5;241m.\u001b[39mreset_index(drop\u001b[38;5;241m=\u001b[39m\u001b[38;5;28;01mTrue\u001b[39;00m)\n\u001b[1;32m     12\u001b[0m final\u001b[38;5;241m.\u001b[39mto_csv(\u001b[38;5;124m'\u001b[39m\u001b[38;5;124msubmission.csv\u001b[39m\u001b[38;5;124m'\u001b[39m)\n",
      "File \u001b[0;32m~/anaconda3/envs/diss-final/lib/python3.10/site-packages/pandas/core/frame.py:3813\u001b[0m, in \u001b[0;36mDataFrame.__getitem__\u001b[0;34m(self, key)\u001b[0m\n\u001b[1;32m   3811\u001b[0m     \u001b[38;5;28;01mif\u001b[39;00m is_iterator(key):\n\u001b[1;32m   3812\u001b[0m         key \u001b[38;5;241m=\u001b[39m \u001b[38;5;28mlist\u001b[39m(key)\n\u001b[0;32m-> 3813\u001b[0m     indexer \u001b[38;5;241m=\u001b[39m \u001b[38;5;28;43mself\u001b[39;49m\u001b[38;5;241;43m.\u001b[39;49m\u001b[43mcolumns\u001b[49m\u001b[38;5;241;43m.\u001b[39;49m\u001b[43m_get_indexer_strict\u001b[49m\u001b[43m(\u001b[49m\u001b[43mkey\u001b[49m\u001b[43m,\u001b[49m\u001b[43m \u001b[49m\u001b[38;5;124;43m\"\u001b[39;49m\u001b[38;5;124;43mcolumns\u001b[39;49m\u001b[38;5;124;43m\"\u001b[39;49m\u001b[43m)\u001b[49m[\u001b[38;5;241m1\u001b[39m]\n\u001b[1;32m   3815\u001b[0m \u001b[38;5;66;03m# take() does not accept boolean indexers\u001b[39;00m\n\u001b[1;32m   3816\u001b[0m \u001b[38;5;28;01mif\u001b[39;00m \u001b[38;5;28mgetattr\u001b[39m(indexer, \u001b[38;5;124m\"\u001b[39m\u001b[38;5;124mdtype\u001b[39m\u001b[38;5;124m\"\u001b[39m, \u001b[38;5;28;01mNone\u001b[39;00m) \u001b[38;5;241m==\u001b[39m \u001b[38;5;28mbool\u001b[39m:\n",
      "File \u001b[0;32m~/anaconda3/envs/diss-final/lib/python3.10/site-packages/pandas/core/indexes/base.py:6070\u001b[0m, in \u001b[0;36mIndex._get_indexer_strict\u001b[0;34m(self, key, axis_name)\u001b[0m\n\u001b[1;32m   6067\u001b[0m \u001b[38;5;28;01melse\u001b[39;00m:\n\u001b[1;32m   6068\u001b[0m     keyarr, indexer, new_indexer \u001b[38;5;241m=\u001b[39m \u001b[38;5;28mself\u001b[39m\u001b[38;5;241m.\u001b[39m_reindex_non_unique(keyarr)\n\u001b[0;32m-> 6070\u001b[0m \u001b[38;5;28;43mself\u001b[39;49m\u001b[38;5;241;43m.\u001b[39;49m\u001b[43m_raise_if_missing\u001b[49m\u001b[43m(\u001b[49m\u001b[43mkeyarr\u001b[49m\u001b[43m,\u001b[49m\u001b[43m \u001b[49m\u001b[43mindexer\u001b[49m\u001b[43m,\u001b[49m\u001b[43m \u001b[49m\u001b[43maxis_name\u001b[49m\u001b[43m)\u001b[49m\n\u001b[1;32m   6072\u001b[0m keyarr \u001b[38;5;241m=\u001b[39m \u001b[38;5;28mself\u001b[39m\u001b[38;5;241m.\u001b[39mtake(indexer)\n\u001b[1;32m   6073\u001b[0m \u001b[38;5;28;01mif\u001b[39;00m \u001b[38;5;28misinstance\u001b[39m(key, Index):\n\u001b[1;32m   6074\u001b[0m     \u001b[38;5;66;03m# GH 42790 - Preserve name from an Index\u001b[39;00m\n",
      "File \u001b[0;32m~/anaconda3/envs/diss-final/lib/python3.10/site-packages/pandas/core/indexes/base.py:6133\u001b[0m, in \u001b[0;36mIndex._raise_if_missing\u001b[0;34m(self, key, indexer, axis_name)\u001b[0m\n\u001b[1;32m   6130\u001b[0m     \u001b[38;5;28;01mraise\u001b[39;00m \u001b[38;5;167;01mKeyError\u001b[39;00m(\u001b[38;5;124mf\u001b[39m\u001b[38;5;124m\"\u001b[39m\u001b[38;5;124mNone of [\u001b[39m\u001b[38;5;132;01m{\u001b[39;00mkey\u001b[38;5;132;01m}\u001b[39;00m\u001b[38;5;124m] are in the [\u001b[39m\u001b[38;5;132;01m{\u001b[39;00maxis_name\u001b[38;5;132;01m}\u001b[39;00m\u001b[38;5;124m]\u001b[39m\u001b[38;5;124m\"\u001b[39m)\n\u001b[1;32m   6132\u001b[0m not_found \u001b[38;5;241m=\u001b[39m \u001b[38;5;28mlist\u001b[39m(ensure_index(key)[missing_mask\u001b[38;5;241m.\u001b[39mnonzero()[\u001b[38;5;241m0\u001b[39m]]\u001b[38;5;241m.\u001b[39munique())\n\u001b[0;32m-> 6133\u001b[0m \u001b[38;5;28;01mraise\u001b[39;00m \u001b[38;5;167;01mKeyError\u001b[39;00m(\u001b[38;5;124mf\u001b[39m\u001b[38;5;124m\"\u001b[39m\u001b[38;5;132;01m{\u001b[39;00mnot_found\u001b[38;5;132;01m}\u001b[39;00m\u001b[38;5;124m not in index\u001b[39m\u001b[38;5;124m\"\u001b[39m)\n",
      "\u001b[0;31mKeyError\u001b[0m: \"['id'] not in index\""
     ]
    }
   ],
   "source": [
    "#Testing it on new dataset with the best model\n",
    "df_test=pd.read_csv('test.csv')  #reading the data\n",
    "df_test['clean_text'] = df_test['text'].apply(lambda x: finalpreprocess(x)) #preprocess the data\n",
    "X_test=df_test['clean_text'] \n",
    "X_vector=tfidf_vectorizer.transform(X_test) #converting X_test to vector\n",
    "y_predict = lr_tfidf.predict(X_vector)      #use the trained model on X_vector\n",
    "y_prob = lr_tfidf.predict_proba(X_vector)[:,1]\n",
    "df_test['predict_prob']= y_prob\n",
    "df_test['target']= y_predict\n",
    "print(df_test.head())\n",
    "final=df_test[['id','target']].reset_index(drop=True)\n",
    "final.to_csv('submission.csv')"
   ]
  },
  {
   "cell_type": "code",
   "execution_count": null,
   "metadata": {},
   "outputs": [],
   "source": []
  }
 ],
 "metadata": {
  "kernelspec": {
   "display_name": "diss-final",
   "language": "python",
   "name": "diss-final"
  },
  "language_info": {
   "codemirror_mode": {
    "name": "ipython",
    "version": 3
   },
   "file_extension": ".py",
   "mimetype": "text/x-python",
   "name": "python",
   "nbconvert_exporter": "python",
   "pygments_lexer": "ipython3",
   "version": "3.10.9"
  }
 },
 "nbformat": 4,
 "nbformat_minor": 4
}
